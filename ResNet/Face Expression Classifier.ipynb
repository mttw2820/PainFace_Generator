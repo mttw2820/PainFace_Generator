{
 "cells": [
  {
   "cell_type": "code",
   "execution_count": null,
   "metadata": {},
   "outputs": [],
   "source": [
    "from __future__ import print_function, division\n",
    "import torch\n",
    "import torch.nn as nn\n",
    "import torch.optim as optim\n",
    "from torch.optim import lr_scheduler\n",
    "\n",
    "import numpy as np\n",
    "import torchvision\n",
    "from torchvision import datasets,models, transforms\n",
    "from torchvision.utils import save_image\n",
    "import matplotlib.pyplot as plt\n",
    "import time\n",
    "import os\n",
    "import copy\n",
    "\n",
    "import cv2\n",
    "\n",
    "plt.ion()"
   ]
  },
  {
   "cell_type": "code",
   "execution_count": null,
   "metadata": {},
   "outputs": [],
   "source": [
    "RESIZE_SIZE = 128\n",
    "CLASS_NUM = 8     # 분류할 class 개수\n",
    "EPOCH = 25\n",
    "\n",
    "#data_dir = './data/RaFD+PE'\n",
    "#data_dir = './data/RaFD+PE+WEB'\n",
    "data_dir = './data/ALL'\n",
    "\n",
    "PE_data_dir = data_dir + '/PE'\n",
    "RaFD_data_dir = data_dir + '/RaFD'\n",
    "GAN_data_dir = data_dir + '/GAN'\n",
    "\n",
    "# Normalized Image path\n",
    "save_dir = \"./result/tensor_image/normalization/grayscale/\""
   ]
  },
  {
   "cell_type": "markdown",
   "metadata": {},
   "source": [
    "# Load Dataset\n",
    "## Dataset Transform"
   ]
  },
  {
   "cell_type": "code",
   "execution_count": null,
   "metadata": {},
   "outputs": [],
   "source": [
    "RaFD_MEAN = [0.485, 0.456, 0.406]\n",
    "RaFD_STD = [0.229, 0.224, 0.225]"
   ]
  },
  {
   "cell_type": "code",
   "execution_count": null,
   "metadata": {},
   "outputs": [],
   "source": [
    "RaFD_transforms = {\n",
    "    'train' : transforms.Compose([\n",
    "        transforms.Resize(RESIZE_SIZE),\n",
    "        transforms.RandomHorizontalFlip(),\n",
    "        transforms.ToTensor(),\n",
    "        transforms.Normalize(RaFD_MEAN, RaFD_STD)\n",
    "    ]),\n",
    "    'val': transforms.Compose([\n",
    "        transforms.Resize(RESIZE_SIZE),\n",
    "        transforms.ToTensor(),\n",
    "        transforms.Normalize(RaFD_MEAN, RaFD_STD)\n",
    "    ]),\n",
    "    'test': transforms.Compose([\n",
    "        transforms.Resize(RESIZE_SIZE),\n",
    "        transforms.ToTensor(),\n",
    "        transforms.Normalize(RaFD_MEAN, RaFD_STD)\n",
    "    ])\n",
    "}\n",
    "\n",
    "PE_transforms = {\n",
    "    'train' : transforms.Compose([\n",
    "        transforms.Resize(RESIZE_SIZE),\n",
    "        transforms.RandomHorizontalFlip(),\n",
    "        transforms.ToTensor(),\n",
    "        transforms.Normalize(RaFD_MEAN, RaFD_STD)\n",
    "    ]),\n",
    "    'val': transforms.Compose([\n",
    "        transforms.Resize(RESIZE_SIZE),\n",
    "        transforms.ToTensor(),\n",
    "        transforms.Normalize(RaFD_MEAN, RaFD_STD)\n",
    "    ]),\n",
    "    'test': transforms.Compose([\n",
    "        transforms.Resize(RESIZE_SIZE),\n",
    "        transforms.ToTensor(),\n",
    "        transforms.Normalize(RaFD_MEAN, RaFD_STD)\n",
    "    ])\n",
    "}\n",
    "\n",
    "GAN_transforms = {\n",
    "    'train' : transforms.Compose([\n",
    "        transforms.Resize(RESIZE_SIZE),\n",
    "        transforms.RandomHorizontalFlip(),\n",
    "        transforms.ToTensor(),\n",
    "        transforms.Normalize(RaFD_MEAN, RaFD_STD)\n",
    "    ]),\n",
    "    'val': transforms.Compose([\n",
    "        transforms.Resize(RESIZE_SIZE),\n",
    "        transforms.ToTensor(),\n",
    "        transforms.Normalize(RaFD_MEAN, RaFD_STD)\n",
    "    ]),\n",
    "    'test': transforms.Compose([\n",
    "        transforms.Resize(RESIZE_SIZE),\n",
    "        transforms.ToTensor(),\n",
    "        transforms.Normalize(RaFD_MEAN, RaFD_STD)\n",
    "    ])\n",
    "}\n"
   ]
  },
  {
   "cell_type": "markdown",
   "metadata": {},
   "source": [
    "### without gan data"
   ]
  },
  {
   "cell_type": "code",
   "execution_count": null,
   "metadata": {},
   "outputs": [],
   "source": [
    "rafd_datasets = {x: datasets.ImageFolder(os.path.join(RaFD_data_dir, x), RaFD_transforms[x])\n",
    "                     for x in ['train', 'val', 'test']}\n",
    "pe_datasets = {x: datasets.ImageFolder(os.path.join(PE_data_dir, x), PE_transforms[x])\n",
    "                  for x in ['train', 'val', 'test']}\n",
    "\n",
    "image_datasets = {x: rafd_datasets[x] + pe_datasets[x] for x in ['train', 'val', 'test']}\n",
    "dataloaders = {x: torch.utils.data.DataLoader(image_datasets[x], batch_size=4,\n",
    "                                             shuffle=True, num_workers=4)\n",
    "                  for x in ['train', 'val', 'test']}\n",
    "\n",
    "dataset_sizes = {x: len(image_datasets[x])for x in ['train', 'val', 'test']}\n",
    "class_names = rafd_datasets['train'].classes\n",
    "\n",
    "device = torch.device(\"cuda:0\" if torch.cuda.is_available() else \"cpu\")"
   ]
  },
  {
   "cell_type": "code",
   "execution_count": null,
   "metadata": {},
   "outputs": [],
   "source": [
    "rafd_dataloaders = {x: torch.utils.data.DataLoader(rafd_datasets[x], batch_size=4,\n",
    "                                             shuffle=True, num_workers=4)\n",
    "                  for x in ['train', 'val', 'test']}\n",
    "pe_dataloaders = {x: torch.utils.data.DataLoader(pe_datasets[x], batch_size=4,\n",
    "                                             shuffle=True, num_workers=4)\n",
    "                  for x in ['train', 'val', 'test']}\n"
   ]
  },
  {
   "cell_type": "markdown",
   "metadata": {},
   "source": [
    "### with gan data"
   ]
  },
  {
   "cell_type": "code",
   "execution_count": null,
   "metadata": {},
   "outputs": [],
   "source": [
    "rafd_datasets = {x: datasets.ImageFolder(os.path.join(RaFD_data_dir, x), RaFD_transforms[x])\n",
    "                     for x in ['train', 'val', 'test']}\n",
    "pe_datasets = {x: datasets.ImageFolder(os.path.join(PE_data_dir, x), PE_transforms[x])\n",
    "                  for x in ['train', 'val', 'test']}\n",
    "gan_datasets = {x: datasets.ImageFolder(os.path.join(GAN_data_dir, x), GAN_transforms[x])\n",
    "                   for x in ['train', 'val', 'test']}\n",
    "\n",
    "image_datasets = {x: rafd_datasets[x] + pe_datasets[x] + gan_datasets[x] for x in ['train', 'val', 'test']}\n",
    "dataloaders = {x: torch.utils.data.DataLoader(image_datasets[x], batch_size=4,\n",
    "                                             shuffle=True, num_workers=4)\n",
    "                  for x in ['train', 'val', 'test']}\n",
    "\n",
    "dataset_sizes = {x: len(image_datasets[x])for x in ['train', 'val', 'test']}\n",
    "class_names = rafd_datasets['train'].classes\n",
    "\n",
    "device = torch.device(\"cuda:0\" if torch.cuda.is_available() else \"cpu\")"
   ]
  },
  {
   "cell_type": "code",
   "execution_count": null,
   "metadata": {},
   "outputs": [],
   "source": [
    "rafd_dataloaders = {x: torch.utils.data.DataLoader(rafd_datasets[x], batch_size=4,\n",
    "                                             shuffle=True, num_workers=4)\n",
    "                  for x in ['train', 'val', 'test']}\n",
    "pe_dataloaders = {x: torch.utils.data.DataLoader(pe_datasets[x], batch_size=4,\n",
    "                                             shuffle=True, num_workers=4)\n",
    "                  for x in ['train', 'val', 'test']}\n",
    "gan_dataloaders = {x: torch.utils.data.DataLoader(gan_datasets[x], batch_size=4,\n",
    "                                                 shuffle=True, num_workers=4)\n",
    "                  for x in ['train', 'val', 'test']}"
   ]
  },
  {
   "cell_type": "code",
   "execution_count": null,
   "metadata": {},
   "outputs": [],
   "source": [
    "dataset_sizes"
   ]
  },
  {
   "cell_type": "markdown",
   "metadata": {},
   "source": [
    "## Visualize datasets"
   ]
  },
  {
   "cell_type": "code",
   "execution_count": null,
   "metadata": {},
   "outputs": [],
   "source": [
    "def imshow_tensor(inp, title = None) :\n",
    "    inp = inp.numpy().transpose((1, 2, 0))\n",
    "    inp = np.clip(inp, 0, 1)\n",
    "    plt.imshow(inp)\n",
    "    \n",
    "    if title is not None :\n",
    "        plt.title(title)\n",
    "    plt.pause(0.0001)"
   ]
  },
  {
   "cell_type": "code",
   "execution_count": null,
   "metadata": {},
   "outputs": [],
   "source": [
    "## visualize train dataset\n",
    "\n",
    "inputs, classes = next(iter(dataloaders['train']))\n",
    "out = torchvision.utils.make_grid(inputs)\n",
    "\n",
    "imshow_tensor(out, title = [class_names[x] for x in classes])"
   ]
  },
  {
   "cell_type": "markdown",
   "metadata": {},
   "source": [
    "### Save Tensor Image"
   ]
  },
  {
   "cell_type": "code",
   "execution_count": null,
   "metadata": {},
   "outputs": [],
   "source": [
    "def save_tensor_image(_phase = 'train') :\n",
    "    num_images = 0\n",
    "    \n",
    "    with torch.no_grad():\n",
    "        for i, (inputs, labels) in enumerate(dataloaders[_phase]) :\n",
    "            inputs = inputs.to(device)\n",
    "            labels = labels.to(device)\n",
    "            \n",
    "            for j in range(inputs.size()[0]) :\n",
    "                save_title = save_dir + '/' + _phase + '/' + _phase + '_' + str(num_images).zfill(3) + '.jpg'\n",
    "                save_image(inputs.cpu().data[j], save_title)\n",
    "                num_images += 1\n",
    "        return"
   ]
  },
  {
   "cell_type": "code",
   "execution_count": null,
   "metadata": {},
   "outputs": [],
   "source": [
    "save_tensor_image('train')\n",
    "save_tensor_image('test')\n",
    "save_tensor_image('val')"
   ]
  },
  {
   "cell_type": "markdown",
   "metadata": {},
   "source": [
    "# Train Model"
   ]
  },
  {
   "cell_type": "code",
   "execution_count": null,
   "metadata": {},
   "outputs": [],
   "source": [
    "def train_model(model, criterion, optimizer, scheduler, num_epochs = 25) :\n",
    "    since = time.time()\n",
    "    \n",
    "    best_model_wts = model.state_dict()\n",
    "    best_acc = 0.0\n",
    "    \n",
    "    for epoch in range(num_epochs) :\n",
    "        print('Epoch {}/{}'.format(epoch, num_epochs - 1))\n",
    "        print('-' * 10)\n",
    "        \n",
    "        # epoch 마다 train과 val을 번갈아 실행\n",
    "        for phase in ['train', 'val'] :\n",
    "            if phase == 'train' :\n",
    "                scheduler.step()\n",
    "                model.train(True)\n",
    "            else :\n",
    "                model.train(False)\n",
    "                \n",
    "            running_loss = 0.0\n",
    "            running_corrects = 0\n",
    "            \n",
    "            for inputs, labels in dataloaders[phase]:\n",
    "                inputs = inputs.to(device)\n",
    "                labels = labels.to(device)\n",
    "                \n",
    "                optimizer.zero_grad()\n",
    "\n",
    "                outputs = model(inputs)\n",
    "                _, preds = torch.max(outputs.data, 1)\n",
    "                loss = criterion(outputs, labels)\n",
    "                \n",
    "                if phase == 'train' :\n",
    "                    loss.backward()\n",
    "                    optimizer.step()\n",
    "                    # scheduler.step()\n",
    "                    \n",
    "                running_loss += loss.item() * inputs.size(0)\n",
    "                running_corrects += torch.sum(preds == labels.data)\n",
    "            \n",
    "            if phase == 'train' :\n",
    "                scheduler.step()\n",
    "                \n",
    "            epoch_loss = running_loss / dataset_sizes[phase]\n",
    "            epoch_acc = running_corrects.double() / dataset_sizes[phase]\n",
    "\n",
    "            print('{} Loss: {:.4f} Acc: {:.4f}'.format(\n",
    "                 phase, epoch_loss, epoch_acc))\n",
    "\n",
    "\n",
    "            # deep copy the model\n",
    "            if phase == 'val' and epoch_acc > best_acc :\n",
    "                best_acc = epoch_acc\n",
    "                best_model_wts = copy.deepcopy(model.state_dict())\n",
    "\n",
    "        print()\n",
    "        \n",
    "    time_elapsed = time.time() - since\n",
    "    print('Training Complete in {:.0f}m {:.0f}s'.format(\n",
    "            time_elapsed // 60, time_elapsed % 60))\n",
    "    print('Best val Acc: {:4f}'.format(best_acc))\n",
    "\n",
    "    # load vest model weights\n",
    "    model.load_state_dict(best_model_wts)\n",
    "    return model"
   ]
  },
  {
   "cell_type": "markdown",
   "metadata": {},
   "source": [
    "## Finetuning ConvNet\n",
    "### Load Pretrained model"
   ]
  },
  {
   "cell_type": "code",
   "execution_count": null,
   "metadata": {},
   "outputs": [],
   "source": [
    "model_ft = models.resnet18(pretrained = True)\n",
    "num_ftrs = model_ft.fc.in_features\n",
    "\n",
    "# nn.Linear(num_ftrs, len(class_names))\n",
    "model_ft.fc = nn.Linear(num_ftrs, CLASS_NUM)\n",
    "model_ft = model_ft.to(device)\n",
    "\n",
    "criterion = nn.CrossEntropyLoss()\n",
    "\n",
    "optimizer_ft = optim.SGD(model_ft.parameters(), lr=0.001, momentum=0.9)\n",
    "exp_lr_scheduler = lr_scheduler.StepLR(optimizer_ft, step_size = 7, gamma = 0.1)"
   ]
  },
  {
   "cell_type": "markdown",
   "metadata": {},
   "source": [
    "### Train and Evaluate"
   ]
  },
  {
   "cell_type": "code",
   "execution_count": null,
   "metadata": {
    "scrolled": true
   },
   "outputs": [],
   "source": [
    "model_ft = train_model(model_ft, criterion, optimizer_ft, exp_lr_scheduler,\n",
    "                          num_epochs = EPOCH)"
   ]
  },
  {
   "cell_type": "markdown",
   "metadata": {},
   "source": [
    "# Visualize Result\n",
    "## Visualize Result with accuracy"
   ]
  },
  {
   "cell_type": "code",
   "execution_count": null,
   "metadata": {},
   "outputs": [],
   "source": [
    "## 각 클래스/데이터셋 별 정확도 출력\n",
    "\n",
    "def visualize_accuracy(model, DATALOADERS, _phase='val') :\n",
    "    was_training = model.training\n",
    "    model.eval()\n",
    "    images_so_far = 0\n",
    "    acc = 0.0\n",
    "    class_acc_list = [0.0 for i in range(CLASS_NUM)]\n",
    "    class_cnt_list = [0.0 for i in range(CLASS_NUM)]\n",
    "    correct = 0.0\n",
    "    \n",
    "    with torch.no_grad():\n",
    "        for i, (inputs, labels) in enumerate(DATALOADERS[_phase]):\n",
    "            inputs = inputs.to(device)\n",
    "            labels = labels.to(device)\n",
    "            \n",
    "            outputs = model(inputs)\n",
    "            _, preds = torch.max(outputs, 1)\n",
    "            \n",
    "            for j in range(inputs.size()[0]):\n",
    "                \n",
    "                images_so_far += 1\n",
    "                is_correct = True\n",
    "                if preds[j] != labels[j] : is_correct = False\n",
    "                \n",
    "                # Accuracy\n",
    "                if is_correct : \n",
    "                    correct += 1\n",
    "                    class_acc_list[preds[j]] += 1  \n",
    "                \n",
    "                class_cnt_list[labels[j]] += 1\n",
    "                \n",
    "        # calculate Accuracy\n",
    "        acc = correct / images_so_far * 100.0\n",
    "        print(\">> Total Accuracy : {:.4f}\".format(acc))\n",
    "        \n",
    "        print(\">> CLASS Accuracy\")\n",
    "        for i in range(CLASS_NUM) :\n",
    "            if class_cnt_list[i] == 0 : class_acc = 0.0\n",
    "            else : class_acc = class_acc_list[i] / class_cnt_list[i] * 100\n",
    "            print(\"- {} : {:.4f} ({} outof {})\".format(\n",
    "                class_names[i], class_acc, class_acc_list[i], class_cnt_list[i]))\n",
    "            \n",
    "        model.train(mode = was_training)\n",
    "        return"
   ]
  },
  {
   "cell_type": "markdown",
   "metadata": {},
   "source": [
    "### VAL ACCURACY"
   ]
  },
  {
   "cell_type": "code",
   "execution_count": null,
   "metadata": {
    "scrolled": false
   },
   "outputs": [],
   "source": [
    "print(\"SEPARATE VAL ACCURACY\\n\")\n",
    "\n",
    "print(\"RaFD ACCURACY\")\n",
    "visualize_accuracy(model_ft, rafd_dataloaders, 'val')\n",
    "\n",
    "print(\"\\nPE ACCURACY\")\n",
    "visualize_accuracy(model_ft, pe_dataloaders, 'val')\n",
    "\n",
    "print(\"\\nGAN ACCURACY\")\n",
    "visualize_accuracy(model_ft, gan_dataloaders, 'val')\n",
    "\n",
    "print(\"\\nTOTAL ACCURACY\")\n",
    "visualize_accuracy(model_ft, dataloaders, 'val')"
   ]
  },
  {
   "cell_type": "markdown",
   "metadata": {},
   "source": [
    "### TEST ACCURACY"
   ]
  },
  {
   "cell_type": "code",
   "execution_count": null,
   "metadata": {
    "scrolled": false
   },
   "outputs": [],
   "source": [
    "print(\"SEPARATE TEST ACCURACY\\n\")\n",
    "\n",
    "print(\"RaFD ACCURACY\")\n",
    "visualize_accuracy(model_ft, rafd_dataloaders, 'test')\n",
    "\n",
    "print(\"\\nPE ACCURACY\")\n",
    "visualize_accuracy(model_ft, pe_dataloaders, 'test')\n",
    "\n",
    "print(\"\\nGAN ACCURACY\")\n",
    "visualize_accuracy(model_ft, gan_dataloaders, 'test')\n",
    "\n",
    "print(\"\\nTOTAL ACCURACY\")\n",
    "visualize_accuracy(model_ft, dataloaders, 'test')"
   ]
  },
  {
   "cell_type": "markdown",
   "metadata": {},
   "source": [
    "## Visualize Model with Image"
   ]
  },
  {
   "cell_type": "code",
   "execution_count": null,
   "metadata": {},
   "outputs": [],
   "source": [
    "## 각 테스트 이미지와 그 분류 결과 출력\n",
    "def visualize_model(model, num_images = 6, _phase='val') :\n",
    "    was_training = model.training\n",
    "    model.eval()\n",
    "    images_so_far = 0\n",
    "    acc = 0.0\n",
    "    class_acc_list = [0.0 for i in range(CLASS_NUM)]\n",
    "    class_cnt_list = [0.0 for i in range(CLASS_NUM)]\n",
    "    correct = 0.0\n",
    "    fig = plt.figure()\n",
    "    \n",
    "    with torch.no_grad():\n",
    "        for i, (inputs, labels) in enumerate(dataloaders[_phase]):\n",
    "            inputs = inputs.to(device)\n",
    "            labels = labels.to(device)\n",
    "            \n",
    "            outputs = model(inputs)\n",
    "            _, preds = torch.max(outputs, 1)\n",
    "            \n",
    "            for j in range(inputs.size()[0]):\n",
    "                \n",
    "                images_so_far += 1\n",
    "                ax = plt.subplot(1, 1, 1)\n",
    "                ax.axis('off')\n",
    "                is_correct = True\n",
    "                if preds[j] != labels[j] : is_correct = False\n",
    "                \n",
    "                # Accuracy\n",
    "                if is_correct : correct += 1  \n",
    "                if num_images > 0 and images_so_far >= num_images : continue  \n",
    "                \n",
    "                class_cnt_list[labels[j]] += 1\n",
    "                # 결과 출력 이미지\n",
    "                if is_correct :\n",
    "                    ax.set_title('predicted: {}'.format(\n",
    "                                class_names[preds[j]]))\n",
    "                    class_acc_list[preds[j]] += 1\n",
    "                else :\n",
    "                    ax.set_title('predicted: {} | answer: {}'.format(\n",
    "                                class_names[preds[j]], class_names[labels[j]]))\n",
    "\n",
    "                imshow(inputs.cpu().data[j])\n",
    "                \n",
    "        # calculate Accuracy\n",
    "        acc = correct / images_so_far * 100.0\n",
    "        print(\">> Total Accuracy : {:.4f}\".format(acc))\n",
    "        \n",
    "        print(\">> CLASS Accuracy\")\n",
    "        for i in range(CLASS_NUM) :\n",
    "            class_acc = class_acc_list[i] / class_cnt_list[i] * 100\n",
    "            print(\"- {} : {:.4f} ({} outof {})\".format(\n",
    "                class_names[i], class_acc, class_acc_list[i], class_cnt_list[i]))\n",
    "            \n",
    "        model.train(mode = was_training)\n",
    "        return"
   ]
  },
  {
   "cell_type": "code",
   "execution_count": null,
   "metadata": {},
   "outputs": [],
   "source": [
    "visualize_model(model_ft, -1, 'val')"
   ]
  },
  {
   "cell_type": "code",
   "execution_count": null,
   "metadata": {},
   "outputs": [],
   "source": [
    "visualize_model(model_ft, -1, 'test')"
   ]
  }
 ],
 "metadata": {
  "kernelspec": {
   "display_name": "Python 3",
   "language": "python",
   "name": "python3"
  },
  "language_info": {
   "codemirror_mode": {
    "name": "ipython",
    "version": 3
   },
   "file_extension": ".py",
   "mimetype": "text/x-python",
   "name": "python",
   "nbconvert_exporter": "python",
   "pygments_lexer": "ipython3",
   "version": "3.6.4"
  }
 },
 "nbformat": 4,
 "nbformat_minor": 4
}
